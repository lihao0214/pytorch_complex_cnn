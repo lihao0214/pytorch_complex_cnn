{
 "cells": [
  {
   "cell_type": "code",
   "execution_count": 1,
   "metadata": {
    "collapsed": true,
    "deletable": true,
    "editable": true
   },
   "outputs": [],
   "source": [
    "import numpy as np\n",
    "import matplotlib.pyplot as plt\n",
    "%matplotlib inline"
   ]
  },
  {
   "cell_type": "code",
   "execution_count": 2,
   "metadata": {
    "collapsed": false,
    "deletable": true,
    "editable": true
   },
   "outputs": [],
   "source": [
    "from cifar import load_cifar10\n",
    "X_train,y_train,X_val,y_val,X_test,y_test = load_cifar10(\"cifar_data\")\n",
    "class_names = np.array(['airplane','automobile ','bird ','cat ','deer ','dog ','frog ','horse ','ship ','truck'])\n",
    "\n"
   ]
  },
  {
   "cell_type": "code",
   "execution_count": 3,
   "metadata": {
    "collapsed": true,
    "deletable": true,
    "editable": true
   },
   "outputs": [],
   "source": [
    "import torch, torch.nn as nn\n",
    "import torch.nn.functional as F\n",
    "from torch.autograd import Variable\n",
    "class Flatten(nn.Module):\n",
    "    def forward(self, input):\n",
    "        return input.view(input.size(0), -1)"
   ]
  },
  {
   "cell_type": "code",
   "execution_count": 4,
   "metadata": {
    "collapsed": false,
    "deletable": true,
    "editable": true
   },
   "outputs": [],
   "source": [
    "from modules import *\n",
    "\n",
    "\n",
    "model = nn.Sequential()\n",
    "model.add_module('conv_1', C_conv2d(3, 10, (3, 3), stride = 2, padding = 0))\n",
    "model.add_module('conv_1_bn', C_BatchNorm2d(10))\n",
    "model.add_module('conv_1_relu', C_ReLU())\n",
    "\n",
    "model.add_module('conv_2', C_conv2d(10, 10, (3, 3), stride = 2, padding = 0))\n",
    "model.add_module('conv_2_bn', C_BatchNorm2d(10))\n",
    "model.add_module('conv_2_relu', C_ReLU())\n",
    "\n",
    "\n",
    "model.add_module('flatten', Flatten())\n",
    "model.add_module('dense1', C_Linear(490, 10))"
   ]
  },
  {
   "cell_type": "code",
   "execution_count": 5,
   "metadata": {
    "collapsed": true,
    "deletable": true,
    "editable": true
   },
   "outputs": [],
   "source": [
    "def compute_loss(X_batch, y_batch):\n",
    "    X_batch = Complex(Variable(torch.FloatTensor(X_batch)))\n",
    "    y_batch = Variable(torch.LongTensor(y_batch))\n",
    "    logits = model(X_batch).real\n",
    "    return F.cross_entropy(logits, y_batch).mean()"
   ]
  },
  {
   "cell_type": "markdown",
   "metadata": {
    "deletable": true,
    "editable": true
   },
   "source": [
    "__ Training __"
   ]
  },
  {
   "cell_type": "code",
   "execution_count": 6,
   "metadata": {
    "collapsed": false,
    "deletable": true,
    "editable": true
   },
   "outputs": [],
   "source": [
    "def iterate_minibatches(X, y, batchsize):    \n",
    "    indices = np.random.permutation(np.arange(len(X)))\n",
    "    for start in range(0, len(indices), batchsize):\n",
    "        ix = indices[start: start + batchsize]\n",
    "        yield X[ix], y[ix]\n",
    "        \n",
    "opt = torch.optim.Adam(model.parameters())\n",
    "\n",
    "train_loss = []\n",
    "val_accuracy = []"
   ]
  },
  {
   "cell_type": "code",
   "execution_count": 7,
   "metadata": {
    "collapsed": false,
    "deletable": true,
    "editable": true
   },
   "outputs": [
    {
     "name": "stderr",
     "output_type": "stream",
     "text": [
      "40it [00:28,  1.73it/s]\n",
      "Widget Javascript not detected.  It may not be installed properly. Did you enable the widgetsnbextension? If not, then run \"jupyter nbextension enable --py --sys-prefix widgetsnbextension\"\n",
      "0it [00:00, ?it/s]"
     ]
    },
    {
     "name": "stdout",
     "output_type": "stream",
     "text": [
      "\n",
      "Epoch 1 of 10 took 30.461s\n",
      "  training loss (in-iteration): \t1.943453\n",
      "  validation accuracy: \t\t\t40.79 %\n"
     ]
    },
    {
     "name": "stderr",
     "output_type": "stream",
     "text": [
      "40it [00:22,  1.78it/s]\n",
      "Widget Javascript not detected.  It may not be installed properly. Did you enable the widgetsnbextension? If not, then run \"jupyter nbextension enable --py --sys-prefix widgetsnbextension\"\n",
      "0it [00:00, ?it/s]"
     ]
    },
    {
     "name": "stdout",
     "output_type": "stream",
     "text": [
      "\n",
      "Epoch 2 of 10 took 24.033s\n",
      "  training loss (in-iteration): \t1.621521\n",
      "  validation accuracy: \t\t\t46.64 %\n"
     ]
    },
    {
     "name": "stderr",
     "output_type": "stream",
     "text": [
      "40it [00:24,  1.76it/s]\n",
      "Widget Javascript not detected.  It may not be installed properly. Did you enable the widgetsnbextension? If not, then run \"jupyter nbextension enable --py --sys-prefix widgetsnbextension\"\n",
      "0it [00:00, ?it/s]"
     ]
    },
    {
     "name": "stdout",
     "output_type": "stream",
     "text": [
      "\n",
      "Epoch 3 of 10 took 25.935s\n",
      "  training loss (in-iteration): \t1.456093\n",
      "  validation accuracy: \t\t\t49.94 %\n"
     ]
    },
    {
     "name": "stderr",
     "output_type": "stream",
     "text": [
      "40it [00:22,  1.81it/s]\n",
      "Widget Javascript not detected.  It may not be installed properly. Did you enable the widgetsnbextension? If not, then run \"jupyter nbextension enable --py --sys-prefix widgetsnbextension\"\n",
      "0it [00:00, ?it/s]"
     ]
    },
    {
     "name": "stdout",
     "output_type": "stream",
     "text": [
      "\n",
      "Epoch 4 of 10 took 24.638s\n",
      "  training loss (in-iteration): \t1.365824\n",
      "  validation accuracy: \t\t\t52.04 %\n"
     ]
    },
    {
     "name": "stderr",
     "output_type": "stream",
     "text": [
      "40it [00:23,  1.70it/s]\n",
      "Widget Javascript not detected.  It may not be installed properly. Did you enable the widgetsnbextension? If not, then run \"jupyter nbextension enable --py --sys-prefix widgetsnbextension\"\n",
      "0it [00:00, ?it/s]"
     ]
    },
    {
     "name": "stdout",
     "output_type": "stream",
     "text": [
      "\n",
      "Epoch 5 of 10 took 24.669s\n",
      "  training loss (in-iteration): \t1.312152\n",
      "  validation accuracy: \t\t\t54.15 %\n"
     ]
    },
    {
     "name": "stderr",
     "output_type": "stream",
     "text": [
      "40it [00:22,  1.79it/s]\n",
      "Widget Javascript not detected.  It may not be installed properly. Did you enable the widgetsnbextension? If not, then run \"jupyter nbextension enable --py --sys-prefix widgetsnbextension\"\n",
      "0it [00:00, ?it/s]"
     ]
    },
    {
     "name": "stdout",
     "output_type": "stream",
     "text": [
      "\n",
      "Epoch 6 of 10 took 24.270s\n",
      "  training loss (in-iteration): \t1.266213\n",
      "  validation accuracy: \t\t\t54.32 %\n"
     ]
    },
    {
     "name": "stderr",
     "output_type": "stream",
     "text": [
      "40it [00:24,  1.54it/s]\n",
      "Widget Javascript not detected.  It may not be installed properly. Did you enable the widgetsnbextension? If not, then run \"jupyter nbextension enable --py --sys-prefix widgetsnbextension\"\n",
      "0it [00:00, ?it/s]"
     ]
    },
    {
     "name": "stdout",
     "output_type": "stream",
     "text": [
      "\n",
      "Epoch 7 of 10 took 26.648s\n",
      "  training loss (in-iteration): \t1.235751\n",
      "  validation accuracy: \t\t\t55.41 %\n"
     ]
    },
    {
     "name": "stderr",
     "output_type": "stream",
     "text": [
      "40it [00:23,  1.57it/s]\n",
      "Widget Javascript not detected.  It may not be installed properly. Did you enable the widgetsnbextension? If not, then run \"jupyter nbextension enable --py --sys-prefix widgetsnbextension\"\n",
      "0it [00:00, ?it/s]"
     ]
    },
    {
     "name": "stdout",
     "output_type": "stream",
     "text": [
      "\n",
      "Epoch 8 of 10 took 25.474s\n",
      "  training loss (in-iteration): \t1.214723\n",
      "  validation accuracy: \t\t\t56.40 %\n"
     ]
    },
    {
     "name": "stderr",
     "output_type": "stream",
     "text": [
      "40it [00:23,  1.81it/s]\n",
      "Widget Javascript not detected.  It may not be installed properly. Did you enable the widgetsnbextension? If not, then run \"jupyter nbextension enable --py --sys-prefix widgetsnbextension\"\n",
      "0it [00:00, ?it/s]"
     ]
    },
    {
     "name": "stdout",
     "output_type": "stream",
     "text": [
      "\n",
      "Epoch 9 of 10 took 25.553s\n",
      "  training loss (in-iteration): \t1.192996\n",
      "  validation accuracy: \t\t\t55.99 %\n"
     ]
    },
    {
     "name": "stderr",
     "output_type": "stream",
     "text": [
      "40it [00:22,  1.81it/s]\n",
      "Widget Javascript not detected.  It may not be installed properly. Did you enable the widgetsnbextension? If not, then run \"jupyter nbextension enable --py --sys-prefix widgetsnbextension\"\n"
     ]
    },
    {
     "name": "stdout",
     "output_type": "stream",
     "text": [
      "\n",
      "Epoch 10 of 10 took 24.302s\n",
      "  training loss (in-iteration): \t1.175566\n",
      "  validation accuracy: \t\t\t56.49 %\n"
     ]
    }
   ],
   "source": [
    "import time\n",
    "import tqdm\n",
    "num_epochs = 10 # total amount of full passes over training data\n",
    "batch_size = 1000  # number of samples processed in one SGD iteration\n",
    "\n",
    "\n",
    "for epoch in range(num_epochs):\n",
    "    # In each epoch, we do a full pass over the training data:\n",
    "    start_time = time.time()\n",
    "    model.train(True) # enable dropout / batch_norm training behavior\n",
    "    \n",
    "\n",
    "    num = 0\n",
    "    for X_batch, y_batch in tqdm.tqdm(iterate_minibatches(X_train, y_train, batch_size)):   \n",
    "        loss = compute_loss(X_batch, y_batch)\n",
    "        loss.backward()\n",
    "        opt.step()\n",
    "        opt.zero_grad()\n",
    "        train_loss.append(loss.cpu().data.numpy()[0])\n",
    "    \n",
    "    # And a full pass over the validation data:\n",
    "    model.train(False) # disable dropout / use averages for batch_norm\n",
    "    for X_batch, y_batch in tqdm.tqdm_notebook(iterate_minibatches(X_val, y_val, batch_size)):\n",
    "        logits = model(Complex(Variable(torch.FloatTensor(X_batch))))\n",
    "        y_pred = logits.real.max(1)[1].cpu().data.numpy()\n",
    "        val_accuracy.append(np.mean(y_batch == y_pred))\n",
    "\n",
    "    \n",
    "    # Then we print the results for this epoch:\n",
    "    print(\"Epoch {} of {} took {:.3f}s\".format(\n",
    "        epoch + 1, num_epochs, time.time() - start_time))\n",
    "    print(\"  training loss (in-iteration): \\t{:.6f}\".format(\n",
    "        np.mean(train_loss[-45000 // batch_size :])))\n",
    "    print(\"  validation accuracy: \\t\\t\\t{:.2f} %\".format(\n",
    "        np.mean(val_accuracy[-len(X_val) // batch_size :]) * 100))    \n",
    "   "
   ]
  },
  {
   "cell_type": "code",
   "execution_count": 8,
   "metadata": {
    "collapsed": false,
    "deletable": true,
    "editable": true
   },
   "outputs": [
    {
     "name": "stdout",
     "output_type": "stream",
     "text": [
      "Final results:\n",
      "  test accuracy:\t\t56.22 %\n",
      "Achievement unlocked: 60lvl Warlock!\n"
     ]
    }
   ],
   "source": [
    "model.train(False) # disable dropout / use averages for batch_norm\n",
    "test_batch_acc = []\n",
    "for X_batch, y_batch in iterate_minibatches(X_test, y_test, 1):\n",
    "    logits = model(Complex(Variable(torch.FloatTensor(X_batch))))\n",
    "    y_pred = logits.real.max(1)[1].data.cpu().numpy()\n",
    "    test_batch_acc.append(np.mean(y_batch == y_pred))\n",
    "\n",
    "test_accuracy = np.mean(test_batch_acc)\n",
    "    \n",
    "print(\"Final results:\")\n",
    "print(\"  test accuracy:\\t\\t{:.2f} %\".format(\n",
    "    test_accuracy * 100))\n",
    "\n",
    "if test_accuracy * 100 > 95:\n",
    "    print(\"Double-check, than consider applying for NIPS'17. SRSly.\")\n",
    "elif test_accuracy * 100 > 90:\n",
    "    print(\"U'r freakin' amazin'!\")\n",
    "elif test_accuracy * 100 > 80:\n",
    "    print(\"Achievement unlocked: 110lvl Warlock!\")\n",
    "elif test_accuracy * 100 > 70:\n",
    "    print(\"Achievement unlocked: 80lvl Warlock!\")\n",
    "elif test_accuracy * 100 > 60:\n",
    "    print(\"Achievement unlocked: 70lvl Warlock!\")\n",
    "elif test_accuracy * 100 > 50:\n",
    "    print(\"Achievement unlocked: 60lvl Warlock!\")\n",
    "else:\n",
    "    print(\"We need more magic! Follow instructons below\")"
   ]
  }
 ],
 "metadata": {
  "kernelspec": {
   "display_name": "Python 3",
   "language": "python",
   "name": "python3"
  },
  "language_info": {
   "codemirror_mode": {
    "name": "ipython",
    "version": 3
   },
   "file_extension": ".py",
   "mimetype": "text/x-python",
   "name": "python",
   "nbconvert_exporter": "python",
   "pygments_lexer": "ipython3",
   "version": "3.5.2"
  },
  "widgets": {
   "state": {
    "0464f3620bfe46bca5014db38f5217c6": {
     "views": [
      {
       "cell_index": 7
      }
     ]
    },
    "0707d8c7a191449e943b2a46d4c33369": {
     "views": [
      {
       "cell_index": 14
      }
     ]
    },
    "08832d133d9240759de203d8301cc2ee": {
     "views": [
      {
       "cell_index": 15
      }
     ]
    },
    "0a5b71e3cabf4e37a60573ae3cbdcafc": {
     "views": [
      {
       "cell_index": 15
      }
     ]
    },
    "0c47c371232444d2a7e30fa50ccee966": {
     "views": [
      {
       "cell_index": 14
      }
     ]
    },
    "10560ca6f9a14d0fb638e7f7d2487bc0": {
     "views": [
      {
       "cell_index": 15
      }
     ]
    },
    "16af01242c1b4f46aaba37309729afef": {
     "views": [
      {
       "cell_index": 15
      }
     ]
    },
    "189eeaa200164613b39dc7b4336e7320": {
     "views": [
      {
       "cell_index": 14
      }
     ]
    },
    "1e17ad7219cd42f8989cfa5a951c85c6": {
     "views": [
      {
       "cell_index": 15
      }
     ]
    },
    "1f52528da4bc419981bd8588d3008017": {
     "views": [
      {
       "cell_index": 14
      }
     ]
    },
    "27370a73c4224963ab7078e85dc41c40": {
     "views": [
      {
       "cell_index": 15
      }
     ]
    },
    "27c4d15c66884cbe95d932acdddbfac0": {
     "views": [
      {
       "cell_index": 15
      }
     ]
    },
    "29dddb1ae77d4f7d9428c733846a61ab": {
     "views": [
      {
       "cell_index": 14
      }
     ]
    },
    "2f87b62b6de24619bc97b21c44e4f30b": {
     "views": [
      {
       "cell_index": 15
      }
     ]
    },
    "30cbc69ebe5a43e8a699168970850301": {
     "views": [
      {
       "cell_index": 15
      }
     ]
    },
    "30f8db0fe04c47ef9b2d7f2ca0e56b30": {
     "views": [
      {
       "cell_index": 7
      }
     ]
    },
    "31bb3ba453bc4dfea4025cb3c69b9e98": {
     "views": [
      {
       "cell_index": 14
      }
     ]
    },
    "3441607e737440bc83befb756270e4be": {
     "views": [
      {
       "cell_index": 7
      }
     ]
    },
    "3900d6d739f24ee8b588a7a033055c2c": {
     "views": [
      {
       "cell_index": 7
      }
     ]
    },
    "39c64911284e443d857c6335e1a1c29e": {
     "views": [
      {
       "cell_index": 14
      }
     ]
    },
    "3eba324f59d94dc08da8997ca260bf42": {
     "views": [
      {
       "cell_index": 15
      }
     ]
    },
    "3f41c3d380ed44428551752cfd85a09b": {
     "views": [
      {
       "cell_index": 7
      }
     ]
    },
    "45822dd7c34744229f1290f4c640fdd2": {
     "views": [
      {
       "cell_index": 15
      }
     ]
    },
    "4744d308fc654e1881f2c2e4256d0b01": {
     "views": [
      {
       "cell_index": 14
      }
     ]
    },
    "4a85899ab8784f24b9a9a7400f20109d": {
     "views": [
      {
       "cell_index": 14
      }
     ]
    },
    "51e1498f3a38436e81125e8145c3cef8": {
     "views": [
      {
       "cell_index": 14
      }
     ]
    },
    "591db70b931a4355a8e93edb61e94c0b": {
     "views": [
      {
       "cell_index": 14
      }
     ]
    },
    "633653e26fbe46ee8beba0c383e8330c": {
     "views": [
      {
       "cell_index": 15
      }
     ]
    },
    "63b4389d181544019d5da1f0ba211857": {
     "views": [
      {
       "cell_index": 14
      }
     ]
    },
    "665febd8fd524229a65ab5dbb48d1ddd": {
     "views": [
      {
       "cell_index": 14
      }
     ]
    },
    "6ee60204d96a4f1da8aaf04356b75561": {
     "views": [
      {
       "cell_index": 15
      }
     ]
    },
    "6fe2a8c7a3ba4ba4ba4aa78af230a827": {
     "views": [
      {
       "cell_index": 14
      }
     ]
    },
    "71c2939156694821b66dc6e41d940884": {
     "views": [
      {
       "cell_index": 14
      }
     ]
    },
    "7482ad602110459fbe0173abf7aa4fb2": {
     "views": [
      {
       "cell_index": 14
      }
     ]
    },
    "754140a658804b138998ebad1697d0d1": {
     "views": [
      {
       "cell_index": 15
      }
     ]
    },
    "762accfd1ce94190907acb67ec4326da": {
     "views": [
      {
       "cell_index": 7
      }
     ]
    },
    "7accc9276e854d70b0705ee24b500c85": {
     "views": [
      {
       "cell_index": 14
      }
     ]
    },
    "7ea44d1127c94dd8a3f0f652523556c1": {
     "views": [
      {
       "cell_index": 14
      }
     ]
    },
    "7f72121930ab4831b36c05f02291ea32": {
     "views": [
      {
       "cell_index": 15
      }
     ]
    },
    "8557c37cee04401ebc204472f73e846c": {
     "views": [
      {
       "cell_index": 14
      }
     ]
    },
    "896e0fc565d84cc5a28460d2aa7d00c0": {
     "views": [
      {
       "cell_index": 15
      }
     ]
    },
    "8b13d4ac737b4947b6def81c2bf97085": {
     "views": [
      {
       "cell_index": 14
      }
     ]
    },
    "8f96056d29db4422addf10bdd6999235": {
     "views": [
      {
       "cell_index": 14
      }
     ]
    },
    "901671bab9f149489de74e3c113b8eff": {
     "views": [
      {
       "cell_index": 14
      }
     ]
    },
    "932d04a16ad24497a08701239219bcbd": {
     "views": [
      {
       "cell_index": 14
      }
     ]
    },
    "9bbf0cde57af4268aad450e398e30b79": {
     "views": [
      {
       "cell_index": 7
      }
     ]
    },
    "9cff2a7991fd46329c47f169f9d50907": {
     "views": [
      {
       "cell_index": 7
      }
     ]
    },
    "a4d8dfd36de54662b9bba20814c3a72d": {
     "views": [
      {
       "cell_index": 14
      }
     ]
    },
    "aab666fa5b9c4dfca30f7961ab3a0c30": {
     "views": [
      {
       "cell_index": 7
      }
     ]
    },
    "ac998882b7694deab5ea9bdc5e31db92": {
     "views": [
      {
       "cell_index": 16
      }
     ]
    },
    "ad3b1478879642469d76adc75a500bfe": {
     "views": [
      {
       "cell_index": 7
      }
     ]
    },
    "aee1a97b72674bdd92c1c5429df107d4": {
     "views": [
      {
       "cell_index": 14
      }
     ]
    },
    "b2997a35dc38458b93d440283dcbd717": {
     "views": [
      {
       "cell_index": 7
      }
     ]
    },
    "b8ecc9c8703540f4b6b1fcc8f0b18527": {
     "views": [
      {
       "cell_index": 15
      }
     ]
    },
    "b8ee7815980148c18aa43ca3d0ccc12b": {
     "views": [
      {
       "cell_index": 7
      }
     ]
    },
    "b92165bb182940b5bf122ede722f4fba": {
     "views": [
      {
       "cell_index": 15
      }
     ]
    },
    "b95c40699703402380fdcfb981c86b18": {
     "views": [
      {
       "cell_index": 14
      }
     ]
    },
    "b985197a66f345d7866d5188b925b647": {
     "views": [
      {
       "cell_index": 14
      }
     ]
    },
    "baec4f18882c4e17befe65c3a20a89d5": {
     "views": [
      {
       "cell_index": 14
      }
     ]
    },
    "bba5bfe9d5ba489aa23d2af3312eab32": {
     "views": [
      {
       "cell_index": 15
      }
     ]
    },
    "bc701b4159d54e579b24db317ecc8eba": {
     "views": [
      {
       "cell_index": 14
      }
     ]
    },
    "be1890f43c4843088e52fc853b06db55": {
     "views": [
      {
       "cell_index": 14
      }
     ]
    },
    "c0cfd8ded27f4dee9a3bc224e2881343": {
     "views": [
      {
       "cell_index": 7
      }
     ]
    },
    "c1c5060e3ca94c599a0ea758d5dfdd74": {
     "views": [
      {
       "cell_index": 15
      }
     ]
    },
    "c50afd2f94094ba387c8648a7ea3fe92": {
     "views": [
      {
       "cell_index": 15
      }
     ]
    },
    "c9458acf50e64151948934aad02a03ee": {
     "views": [
      {
       "cell_index": 7
      }
     ]
    },
    "c9efbc96fce449478977c2faa3494c8e": {
     "views": [
      {
       "cell_index": 14
      }
     ]
    },
    "ca1761fd3abf4d618ca134f5b0e87af7": {
     "views": [
      {
       "cell_index": 14
      }
     ]
    },
    "cea8edfec78647e1abc5702dceb14723": {
     "views": [
      {
       "cell_index": 15
      }
     ]
    },
    "d05314b320944b96bcb1deeeb8e3c16b": {
     "views": [
      {
       "cell_index": 14
      }
     ]
    },
    "dc9178cbd1164f74b315780069d9095a": {
     "views": [
      {
       "cell_index": 15
      }
     ]
    },
    "de2080ad117b482ab74af2c4d53ed400": {
     "views": [
      {
       "cell_index": 7
      }
     ]
    },
    "df625909475a4a95a1033f930a943c51": {
     "views": [
      {
       "cell_index": 14
      }
     ]
    },
    "e091131fea8a4855a4ec53757551f7c9": {
     "views": [
      {
       "cell_index": 14
      }
     ]
    },
    "e43f1b63f1cc4961aeaf0f2586c6a5c4": {
     "views": [
      {
       "cell_index": 14
      }
     ]
    },
    "edd87249d16f4f8b90b7ddb3d0b8cac9": {
     "views": [
      {
       "cell_index": 14
      }
     ]
    },
    "f4a2b27c8aa74ab49a8aef541d3581e6": {
     "views": [
      {
       "cell_index": 14
      }
     ]
    },
    "f5fa59c456fb4df7b6b97774e7e6b1ef": {
     "views": [
      {
       "cell_index": 15
      }
     ]
    },
    "f682e4e874e74e1c862d958c7b2dfbca": {
     "views": [
      {
       "cell_index": 14
      }
     ]
    },
    "f84f46f408f043029edd26445e56f07e": {
     "views": [
      {
       "cell_index": 14
      }
     ]
    },
    "fbabaef93b9948a9807d615387d37a3b": {
     "views": [
      {
       "cell_index": 15
      }
     ]
    },
    "fcce6a26144d49e781b081a03b206c72": {
     "views": [
      {
       "cell_index": 15
      }
     ]
    }
   },
   "version": "1.2.0"
  }
 },
 "nbformat": 4,
 "nbformat_minor": 1
}
